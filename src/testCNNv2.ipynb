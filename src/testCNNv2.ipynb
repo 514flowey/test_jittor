{
 "cells": [
  {
   "cell_type": "code",
   "execution_count": 1,
   "metadata": {},
   "outputs": [
    {
     "name": "stderr",
     "output_type": "stream",
     "text": [
      "\u001b[38;5;2m[i 0530 16:12:03.472962 88 compiler.py:847] Jittor(1.2.2.28) src: /usr/local/lib/python3.7/dist-packages/jittor\u001b[m\n",
      "\u001b[38;5;2m[i 0530 16:12:03.473845 88 compiler.py:848] g++ at /usr/bin/g++\u001b[m\n",
      "\u001b[38;5;2m[i 0530 16:12:03.474609 88 compiler.py:849] cache_path: /root/.cache/jittor/default/g++\u001b[m\n",
      "\u001b[38;5;2m[i 0530 16:12:03.502645 88 __init__.py:257] Found addr2line(2.30) at /usr/bin/addr2line.\u001b[m\n",
      "\u001b[38;5;2m[i 0530 16:12:03.566953 88 compiler.py:889] pybind_include: -I/usr/include/python3.7m -I/usr/local/lib/python3.7/dist-packages/pybind11/include\u001b[m\n",
      "\u001b[38;5;2m[i 0530 16:12:03.587425 88 compiler.py:891] extension_suffix: .cpython-37m-x86_64-linux-gnu.so\u001b[m\n",
      "\u001b[38;5;2m[i 0530 16:12:03.786500 88 __init__.py:169] Total mem: 7.53GB, using 2 procs for compiling.\u001b[m\n",
      "\u001b[38;5;2m[i 0530 16:12:03.920968 88 jit_compiler.cc:21] Load cc_path: /usr/bin/g++\u001b[m\n",
      "\u001b[38;5;2m[i 0530 16:12:04.042809 88 __init__.py:257] Found mpicc(2.1.1) at /usr/bin/mpicc.\u001b[m\n",
      "\u001b[38;5;2m[i 0530 16:12:04.066444 88 compiler.py:654] handle pyjt_include/usr/local/lib/python3.7/dist-packages/jittor/extern/mpi/inc/mpi_warper.h\u001b[m\n"
     ]
    }
   ],
   "source": [
    "import collections\n",
    "import os\n",
    "import random\n",
    "import time\n",
    "from tqdm import tqdm\n",
    "import jittor as jt\n",
    "from jittor import nn\n",
    "from jittor.dataset.dataset import Dataset"
   ]
  },
  {
   "cell_type": "code",
   "execution_count": 2,
   "metadata": {},
   "outputs": [],
   "source": [
    "def decode_file(file_ID_name, file_result_name):\n",
    "    file_ID = open(file_ID_name, \"r\")\n",
    "    file_result = open(file_result_name, \"r\")\n",
    "    data = []\n",
    "    \n",
    "    for line1, line2 in zip(file_ID, file_result):\n",
    "        feature = line1.replace('\\n','').lower().split(' ')\n",
    "        label = line2.replace('\\n','').lower().split(',')\n",
    "        label = [int(x) for x in label]\n",
    "        data.append([feature, label[1:]])\n",
    "    \n",
    "    random.shuffle(data)\n",
    "    file_ID.close()\n",
    "    file_result.close()\n",
    "    return data"
   ]
  },
  {
   "cell_type": "code",
   "execution_count": 3,
   "metadata": {},
   "outputs": [],
   "source": [
    "folder_name = \"/.cached/data/\"\n",
    "train_ID_name = folder_name + \"ID_train\"\n",
    "train_result_name = folder_name + \"ISEAR_train\"\n",
    "train_data = decode_file(train_ID_name, train_result_name)"
   ]
  },
  {
   "cell_type": "code",
   "execution_count": 4,
   "metadata": {},
   "outputs": [],
   "source": [
    "class MyVocab:\n",
    "    def __init__(self):\n",
    "        self._vocab = {}\n",
    "        self._size = 1\n",
    "        \n",
    "    def insert(self, word):\n",
    "        if word not in self._vocab.keys():\n",
    "            self._vocab[word] = self._size\n",
    "            self._size = self._size + 1\n",
    "    \n",
    "    def locate(self, word):\n",
    "        if word not in self._vocab.keys():\n",
    "            return 0\n",
    "        return self._vocab[word]\n",
    "    \n",
    "    def size(self):\n",
    "        return self._size\n",
    "\n",
    "def build_vocab(data):\n",
    "    vocab = MyVocab()\n",
    "    for sentence in data:\n",
    "        for word in sentence[0]:\n",
    "            vocab.insert(word)\n",
    "    return vocab\n",
    "\n",
    "def resize_sentence(data, normal_len):\n",
    "    def pad(sentence, size):\n",
    "        return sentence[:size] if len(sentence) > size else sentence+[0]*(size-len(sentence))\n",
    "    return [[pad(sentence[0], normal_len), sentence[1]] for sentence in data]\n",
    "    \n",
    "\n",
    "train_vocab = build_vocab(train_data)"
   ]
  },
  {
   "cell_type": "code",
   "execution_count": 5,
   "metadata": {},
   "outputs": [],
   "source": [
    "class TrainDataset(Dataset):\n",
    "    def __init__(self, vocab=None, data=None, normal_len=180, batch_size=1, shuffle=False):\n",
    "        super().__init__()\n",
    "        \n",
    "        self._batch_size = batch_size\n",
    "        self._shuffle = shuffle\n",
    "        self._total_len = len(data)\n",
    "        self._sentence_len = normal_len\n",
    "        self._vocab = vocab\n",
    "        self._data = []\n",
    "        for sentence in data:\n",
    "            self._data.append([[vocab.locate(x) for x in sentence[0]], sentence[1]])\n",
    "        self._data = resize_sentence(self._data, normal_len)\n",
    "        self.set_attrs(batch_size=self._batch_size, total_len=self._total_len, shuffle=self._shuffle)\n",
    "            \n",
    "    def __getitem__(self, index):\n",
    "        feature = jt.array(self._data[index][0])\n",
    "        label = jt.array(self._data[index][1])\n",
    "        return feature, label\n",
    "    \n",
    "trainDataset = TrainDataset(vocab = train_vocab, data = train_data)"
   ]
  },
  {
   "cell_type": "code",
   "execution_count": 6,
   "metadata": {},
   "outputs": [],
   "source": [
    "class Maxpool1D(jt.Module):\n",
    "    def __init__(self):\n",
    "        super(Maxpool1D, self).__init__()\n",
    "    \n",
    "    def execute(self, x):\n",
    "        return jt.argmax(x, -1, False)"
   ]
  },
  {
   "cell_type": "code",
   "execution_count": 27,
   "metadata": {},
   "outputs": [],
   "source": [
    "class TextCNN(jt.Module):\n",
    "    def __init__(self, vocab_size, embed_size, kernel_sizes, num_channels, num_emotion = 7):\n",
    "        super(TextCNN, self).__init__()\n",
    "        self._embedding = nn.Embedding(vocab_size, embed_size)\n",
    "        self._constant_embedding = nn.Embedding(vocab_size, embed_size)\n",
    "        self._pool = Maxpool1D()\n",
    "        self._convs = nn.Sequential()\n",
    "        for k, c in zip(kernel_sizes, num_channels):\n",
    "            self._convs.append(nn.Conv1d(in_channels = 2 * embed_size,\n",
    "                                       out_channels = c,\n",
    "                                       kernel_size = k,))\n",
    "        self._decoder = nn.Linear(sum(num_channels), num_emotion)\n",
    "        self._dropout = nn.Dropout(0.5)\n",
    "        \n",
    "    def execute(self, inputs):\n",
    "        '''\n",
    "        @params:\n",
    "            inputs: 词语下标序列，形状为 (batch_size, len_sentence) 的整数张量\n",
    "        @return:\n",
    "            outputs: 对文本情感的预测，形状为 (batch_size, num_emotion) 的张量\n",
    "        '''\n",
    "        print(inputs.shape[0])\n",
    "        embeddings = jt.contrib.concat([self._embedding(inputs),\n",
    "                                       self._constant_embedding(inputs)], dim = -1)\n",
    "        # embeddings -> (batch_size, len_sentence, embed_size*2)\n",
    "        embbedings = jt.permute(0, 2, 1)\n",
    "        \n",
    "        encoding = jt.contrib.concat([\n",
    "            self._pool(nn.relu(conv(embeddings))) for conv in self._convs], dim = -1)\n",
    "        outputs = self._decoder(self._dropout(encoding))\n",
    "        return outputs\n",
    "    \n",
    "vocab_size = train_vocab.size()\n",
    "embed_size, kernel_sizes, num_channels = 100, [3, 4, 5], [100, 100, 100]\n",
    "net = TextCNN(vocab_size, embed_size, kernel_sizes, num_channels)"
   ]
  },
  {
   "cell_type": "code",
   "execution_count": 28,
   "metadata": {},
   "outputs": [],
   "source": [
    "# lr scheduler\n",
    "def poly_lr_scheduler(opt, init_lr, index, epoch, max_iter, max_epoch):\n",
    "    new_lr = init_lr * (1 - float(epoch * max_iter + index) / (max_epoch * max_iter)) ** 0.9\n",
    "    opt.lr = new_lr\n",
    "\n",
    "def train(model, train_loader, optimizer, init_lr, epoch, max_epoch):\n",
    "    model.train()\n",
    "    max_iter = len(train_loader)\n",
    "    \n",
    "    for index, (feature, label) in enumerate(train_loader):\n",
    "        poly_lr_scheduler(optimizer, init_lr, index, epoch, max_iter, max_epoch)\n",
    "        pred = model(feature)\n",
    "        loss = nn.cross_entropy_loss(pred, label) #ignore_index?\n",
    "        optimizer.step(loss)\n",
    "        print ('Training in epoch {} iteration {} loss = {}'.format(epoch, index, loss.data[0]))"
   ]
  },
  {
   "cell_type": "code",
   "execution_count": 29,
   "metadata": {},
   "outputs": [
    {
     "name": "stdout",
     "output_type": "stream",
     "text": [
      "1\n"
     ]
    },
    {
     "ename": "RuntimeError",
     "evalue": "Wrong inputs arguments, Please refer to examples(help(jt.ops.reshape)).\n\nTypes of your inputs are:\n self\t= module,\n args\t= (Var, list, ),\n\nThe function declarations are:\n VarHolder* reshape(VarHolder* x,  NanoVector shape)\n\nFailed reason:\u001b[38;5;1m[f 0530 16:49:22.291712 88 reshape_op.cc:46] Check failed x_items(18000) == y_items(100) reshape shape is invalid for input of size\u001b[m",
     "output_type": "error",
     "traceback": [
      "\u001b[0;31m---------------------------------------------------------------------------\u001b[0m",
      "\u001b[0;31mRuntimeError\u001b[0m                              Traceback (most recent call last)",
      "\u001b[0;32m<ipython-input-29-14f302f49431>\u001b[0m in \u001b[0;36m<module>\u001b[0;34m\u001b[0m\n\u001b[1;32m      4\u001b[0m \u001b[0moptimizer\u001b[0m \u001b[0;34m=\u001b[0m \u001b[0mnn\u001b[0m\u001b[0;34m.\u001b[0m\u001b[0mSGD\u001b[0m\u001b[0;34m(\u001b[0m\u001b[0mnet\u001b[0m\u001b[0;34m.\u001b[0m\u001b[0mparameters\u001b[0m\u001b[0;34m(\u001b[0m\u001b[0;34m)\u001b[0m\u001b[0;34m,\u001b[0m \u001b[0mlearning_rate\u001b[0m\u001b[0;34m,\u001b[0m \u001b[0mmomentum\u001b[0m\u001b[0;34m,\u001b[0m \u001b[0mweight_decay\u001b[0m\u001b[0;34m)\u001b[0m\u001b[0;34m\u001b[0m\u001b[0;34m\u001b[0m\u001b[0m\n\u001b[1;32m      5\u001b[0m \u001b[0;32mfor\u001b[0m \u001b[0mepoch\u001b[0m \u001b[0;32min\u001b[0m \u001b[0mrange\u001b[0m\u001b[0;34m(\u001b[0m\u001b[0mmax_epoch\u001b[0m\u001b[0;34m)\u001b[0m\u001b[0;34m:\u001b[0m\u001b[0;34m\u001b[0m\u001b[0;34m\u001b[0m\u001b[0m\n\u001b[0;32m----> 6\u001b[0;31m     \u001b[0mtrain\u001b[0m\u001b[0;34m(\u001b[0m\u001b[0mnet\u001b[0m\u001b[0;34m,\u001b[0m \u001b[0mtrainDataset\u001b[0m\u001b[0;34m,\u001b[0m \u001b[0moptimizer\u001b[0m\u001b[0;34m,\u001b[0m \u001b[0minit_lr\u001b[0m\u001b[0;34m,\u001b[0m \u001b[0mepoch\u001b[0m\u001b[0;34m,\u001b[0m \u001b[0mmax_epoch\u001b[0m\u001b[0;34m)\u001b[0m\u001b[0;34m\u001b[0m\u001b[0;34m\u001b[0m\u001b[0m\n\u001b[0m",
      "\u001b[0;32m<ipython-input-28-ba3d4dd039c5>\u001b[0m in \u001b[0;36mtrain\u001b[0;34m(model, train_loader, optimizer, init_lr, epoch, max_epoch)\u001b[0m\n\u001b[1;32m     11\u001b[0m         \u001b[0mpoly_lr_scheduler\u001b[0m\u001b[0;34m(\u001b[0m\u001b[0moptimizer\u001b[0m\u001b[0;34m,\u001b[0m \u001b[0minit_lr\u001b[0m\u001b[0;34m,\u001b[0m \u001b[0mindex\u001b[0m\u001b[0;34m,\u001b[0m \u001b[0mepoch\u001b[0m\u001b[0;34m,\u001b[0m \u001b[0mmax_iter\u001b[0m\u001b[0;34m,\u001b[0m \u001b[0mmax_epoch\u001b[0m\u001b[0;34m)\u001b[0m\u001b[0;34m\u001b[0m\u001b[0;34m\u001b[0m\u001b[0m\n\u001b[1;32m     12\u001b[0m         \u001b[0mfeature\u001b[0m \u001b[0;34m=\u001b[0m \u001b[0mfeature\u001b[0m\u001b[0;34m.\u001b[0m\u001b[0munsqueeze\u001b[0m\u001b[0;34m(\u001b[0m\u001b[0;36m0\u001b[0m\u001b[0;34m)\u001b[0m\u001b[0;34m\u001b[0m\u001b[0;34m\u001b[0m\u001b[0m\n\u001b[0;32m---> 13\u001b[0;31m         \u001b[0mpred\u001b[0m \u001b[0;34m=\u001b[0m \u001b[0mmodel\u001b[0m\u001b[0;34m(\u001b[0m\u001b[0mfeature\u001b[0m\u001b[0;34m)\u001b[0m\u001b[0;34m\u001b[0m\u001b[0;34m\u001b[0m\u001b[0m\n\u001b[0m\u001b[1;32m     14\u001b[0m         \u001b[0mloss\u001b[0m \u001b[0;34m=\u001b[0m \u001b[0mnn\u001b[0m\u001b[0;34m.\u001b[0m\u001b[0mcross_entropy_loss\u001b[0m\u001b[0;34m(\u001b[0m\u001b[0mpred\u001b[0m\u001b[0;34m,\u001b[0m \u001b[0mlabel\u001b[0m\u001b[0;34m)\u001b[0m \u001b[0;31m#ignore_index?\u001b[0m\u001b[0;34m\u001b[0m\u001b[0;34m\u001b[0m\u001b[0m\n\u001b[1;32m     15\u001b[0m         \u001b[0moptimizer\u001b[0m\u001b[0;34m.\u001b[0m\u001b[0mstep\u001b[0m\u001b[0;34m(\u001b[0m\u001b[0mloss\u001b[0m\u001b[0;34m)\u001b[0m\u001b[0;34m\u001b[0m\u001b[0;34m\u001b[0m\u001b[0m\n",
      "\u001b[0;32m/usr/local/lib/python3.7/dist-packages/jittor/__init__.py\u001b[0m in \u001b[0;36m__call__\u001b[0;34m(self, *args, **kw)\u001b[0m\n\u001b[1;32m    549\u001b[0m         \u001b[0;32mpass\u001b[0m\u001b[0;34m\u001b[0m\u001b[0;34m\u001b[0m\u001b[0m\n\u001b[1;32m    550\u001b[0m     \u001b[0;32mdef\u001b[0m \u001b[0m__call__\u001b[0m\u001b[0;34m(\u001b[0m\u001b[0mself\u001b[0m\u001b[0;34m,\u001b[0m \u001b[0;34m*\u001b[0m\u001b[0margs\u001b[0m\u001b[0;34m,\u001b[0m \u001b[0;34m**\u001b[0m\u001b[0mkw\u001b[0m\u001b[0;34m)\u001b[0m\u001b[0;34m:\u001b[0m\u001b[0;34m\u001b[0m\u001b[0;34m\u001b[0m\u001b[0m\n\u001b[0;32m--> 551\u001b[0;31m         \u001b[0;32mreturn\u001b[0m \u001b[0mself\u001b[0m\u001b[0;34m.\u001b[0m\u001b[0mexecute\u001b[0m\u001b[0;34m(\u001b[0m\u001b[0;34m*\u001b[0m\u001b[0margs\u001b[0m\u001b[0;34m,\u001b[0m \u001b[0;34m**\u001b[0m\u001b[0mkw\u001b[0m\u001b[0;34m)\u001b[0m\u001b[0;34m\u001b[0m\u001b[0;34m\u001b[0m\u001b[0m\n\u001b[0m\u001b[1;32m    552\u001b[0m     \u001b[0;32mdef\u001b[0m \u001b[0m__repr__\u001b[0m\u001b[0;34m(\u001b[0m\u001b[0mself\u001b[0m\u001b[0;34m)\u001b[0m\u001b[0;34m:\u001b[0m\u001b[0;34m\u001b[0m\u001b[0;34m\u001b[0m\u001b[0m\n\u001b[1;32m    553\u001b[0m         \u001b[0;32mreturn\u001b[0m \u001b[0mself\u001b[0m\u001b[0;34m.\u001b[0m\u001b[0m__str__\u001b[0m\u001b[0;34m(\u001b[0m\u001b[0;34m)\u001b[0m\u001b[0;34m\u001b[0m\u001b[0;34m\u001b[0m\u001b[0m\n",
      "\u001b[0;32m<ipython-input-27-f8f139f9bd34>\u001b[0m in \u001b[0;36mexecute\u001b[0;34m(self, inputs)\u001b[0m\n\u001b[1;32m     21\u001b[0m         '''\n\u001b[1;32m     22\u001b[0m         \u001b[0mprint\u001b[0m\u001b[0;34m(\u001b[0m\u001b[0minputs\u001b[0m\u001b[0;34m.\u001b[0m\u001b[0mshape\u001b[0m\u001b[0;34m[\u001b[0m\u001b[0;36m0\u001b[0m\u001b[0;34m]\u001b[0m\u001b[0;34m)\u001b[0m\u001b[0;34m\u001b[0m\u001b[0;34m\u001b[0m\u001b[0m\n\u001b[0;32m---> 23\u001b[0;31m         embeddings = jt.contrib.concat([self._embedding(inputs),\n\u001b[0m\u001b[1;32m     24\u001b[0m                                        self._constant_embedding(inputs)], dim = -1)\n\u001b[1;32m     25\u001b[0m         \u001b[0;31m# embeddings -> (batch_size, len_sentence, embed_size*2)\u001b[0m\u001b[0;34m\u001b[0m\u001b[0;34m\u001b[0m\u001b[0;34m\u001b[0m\u001b[0m\n",
      "\u001b[0;32m/usr/local/lib/python3.7/dist-packages/jittor/__init__.py\u001b[0m in \u001b[0;36m__call__\u001b[0;34m(self, *args, **kw)\u001b[0m\n\u001b[1;32m    549\u001b[0m         \u001b[0;32mpass\u001b[0m\u001b[0;34m\u001b[0m\u001b[0;34m\u001b[0m\u001b[0m\n\u001b[1;32m    550\u001b[0m     \u001b[0;32mdef\u001b[0m \u001b[0m__call__\u001b[0m\u001b[0;34m(\u001b[0m\u001b[0mself\u001b[0m\u001b[0;34m,\u001b[0m \u001b[0;34m*\u001b[0m\u001b[0margs\u001b[0m\u001b[0;34m,\u001b[0m \u001b[0;34m**\u001b[0m\u001b[0mkw\u001b[0m\u001b[0;34m)\u001b[0m\u001b[0;34m:\u001b[0m\u001b[0;34m\u001b[0m\u001b[0;34m\u001b[0m\u001b[0m\n\u001b[0;32m--> 551\u001b[0;31m         \u001b[0;32mreturn\u001b[0m \u001b[0mself\u001b[0m\u001b[0;34m.\u001b[0m\u001b[0mexecute\u001b[0m\u001b[0;34m(\u001b[0m\u001b[0;34m*\u001b[0m\u001b[0margs\u001b[0m\u001b[0;34m,\u001b[0m \u001b[0;34m**\u001b[0m\u001b[0mkw\u001b[0m\u001b[0;34m)\u001b[0m\u001b[0;34m\u001b[0m\u001b[0;34m\u001b[0m\u001b[0m\n\u001b[0m\u001b[1;32m    552\u001b[0m     \u001b[0;32mdef\u001b[0m \u001b[0m__repr__\u001b[0m\u001b[0;34m(\u001b[0m\u001b[0mself\u001b[0m\u001b[0;34m)\u001b[0m\u001b[0;34m:\u001b[0m\u001b[0;34m\u001b[0m\u001b[0;34m\u001b[0m\u001b[0m\n\u001b[1;32m    553\u001b[0m         \u001b[0;32mreturn\u001b[0m \u001b[0mself\u001b[0m\u001b[0;34m.\u001b[0m\u001b[0m__str__\u001b[0m\u001b[0;34m(\u001b[0m\u001b[0;34m)\u001b[0m\u001b[0;34m\u001b[0m\u001b[0;34m\u001b[0m\u001b[0m\n",
      "\u001b[0;32m/usr/local/lib/python3.7/dist-packages/jittor/nn.py\u001b[0m in \u001b[0;36mexecute\u001b[0;34m(self, x)\u001b[0m\n\u001b[1;32m    911\u001b[0m \u001b[0;34m\u001b[0m\u001b[0m\n\u001b[1;32m    912\u001b[0m     \u001b[0;32mdef\u001b[0m \u001b[0mexecute\u001b[0m\u001b[0;34m(\u001b[0m\u001b[0mself\u001b[0m\u001b[0;34m,\u001b[0m \u001b[0mx\u001b[0m\u001b[0;34m)\u001b[0m\u001b[0;34m:\u001b[0m\u001b[0;34m\u001b[0m\u001b[0;34m\u001b[0m\u001b[0m\n\u001b[0;32m--> 913\u001b[0;31m         \u001b[0mres\u001b[0m \u001b[0;34m=\u001b[0m \u001b[0mself\u001b[0m\u001b[0;34m.\u001b[0m\u001b[0mweight\u001b[0m\u001b[0;34m[\u001b[0m\u001b[0mx\u001b[0m\u001b[0;34m]\u001b[0m\u001b[0;34m.\u001b[0m\u001b[0mreshape\u001b[0m\u001b[0;34m(\u001b[0m\u001b[0;34m[\u001b[0m\u001b[0mx\u001b[0m\u001b[0;34m.\u001b[0m\u001b[0mshape\u001b[0m\u001b[0;34m[\u001b[0m\u001b[0;36m0\u001b[0m\u001b[0;34m]\u001b[0m\u001b[0;34m,\u001b[0m\u001b[0mself\u001b[0m\u001b[0;34m.\u001b[0m\u001b[0mdim\u001b[0m\u001b[0;34m]\u001b[0m\u001b[0;34m)\u001b[0m\u001b[0;34m\u001b[0m\u001b[0;34m\u001b[0m\u001b[0m\n\u001b[0m\u001b[1;32m    914\u001b[0m         \u001b[0;32mreturn\u001b[0m \u001b[0mres\u001b[0m\u001b[0;34m\u001b[0m\u001b[0;34m\u001b[0m\u001b[0m\n\u001b[1;32m    915\u001b[0m \u001b[0;34m\u001b[0m\u001b[0m\n",
      "\u001b[0;32m/usr/local/lib/python3.7/dist-packages/jittor/__init__.py\u001b[0m in \u001b[0;36mreshape\u001b[0;34m(x, *shape)\u001b[0m\n\u001b[1;32m    314\u001b[0m     \u001b[0;32mif\u001b[0m \u001b[0mlen\u001b[0m\u001b[0;34m(\u001b[0m\u001b[0mshape\u001b[0m\u001b[0;34m)\u001b[0m \u001b[0;34m==\u001b[0m \u001b[0;36m1\u001b[0m \u001b[0;32mand\u001b[0m \u001b[0misinstance\u001b[0m\u001b[0;34m(\u001b[0m\u001b[0mshape\u001b[0m\u001b[0;34m[\u001b[0m\u001b[0;36m0\u001b[0m\u001b[0;34m]\u001b[0m\u001b[0;34m,\u001b[0m \u001b[0;34m(\u001b[0m\u001b[0mSequence\u001b[0m\u001b[0;34m,\u001b[0m \u001b[0mNanoVector\u001b[0m\u001b[0;34m)\u001b[0m\u001b[0;34m)\u001b[0m\u001b[0;34m:\u001b[0m\u001b[0;34m\u001b[0m\u001b[0;34m\u001b[0m\u001b[0m\n\u001b[1;32m    315\u001b[0m         \u001b[0mshape\u001b[0m \u001b[0;34m=\u001b[0m \u001b[0mshape\u001b[0m\u001b[0;34m[\u001b[0m\u001b[0;36m0\u001b[0m\u001b[0;34m]\u001b[0m\u001b[0;34m\u001b[0m\u001b[0;34m\u001b[0m\u001b[0m\n\u001b[0;32m--> 316\u001b[0;31m     \u001b[0;32mreturn\u001b[0m \u001b[0morigin_reshape\u001b[0m\u001b[0;34m(\u001b[0m\u001b[0mx\u001b[0m\u001b[0;34m,\u001b[0m \u001b[0mshape\u001b[0m\u001b[0;34m)\u001b[0m\u001b[0;34m\u001b[0m\u001b[0;34m\u001b[0m\u001b[0m\n\u001b[0m\u001b[1;32m    317\u001b[0m \u001b[0mreshape\u001b[0m\u001b[0;34m.\u001b[0m\u001b[0m__doc__\u001b[0m \u001b[0;34m=\u001b[0m \u001b[0morigin_reshape\u001b[0m\u001b[0;34m.\u001b[0m\u001b[0m__doc__\u001b[0m\u001b[0;34m\u001b[0m\u001b[0;34m\u001b[0m\u001b[0m\n\u001b[1;32m    318\u001b[0m \u001b[0mVar\u001b[0m\u001b[0;34m.\u001b[0m\u001b[0mview\u001b[0m \u001b[0;34m=\u001b[0m \u001b[0mVar\u001b[0m\u001b[0;34m.\u001b[0m\u001b[0mreshape\u001b[0m \u001b[0;34m=\u001b[0m \u001b[0mview\u001b[0m \u001b[0;34m=\u001b[0m \u001b[0mreshape\u001b[0m\u001b[0;34m\u001b[0m\u001b[0;34m\u001b[0m\u001b[0m\n",
      "\u001b[0;31mRuntimeError\u001b[0m: Wrong inputs arguments, Please refer to examples(help(jt.ops.reshape)).\n\nTypes of your inputs are:\n self\t= module,\n args\t= (Var, list, ),\n\nThe function declarations are:\n VarHolder* reshape(VarHolder* x,  NanoVector shape)\n\nFailed reason:\u001b[38;5;1m[f 0530 16:49:22.291712 88 reshape_op.cc:46] Check failed x_items(18000) == y_items(100) reshape shape is invalid for input of size\u001b[m"
     ]
    }
   ],
   "source": [
    "learning_rate = 0.005\n",
    "momentum = 0.9\n",
    "weight_decay = 1e-4\n",
    "optimizer = nn.SGD(net.parameters(), learning_rate, momentum, weight_decay)\n",
    "for epoch in range(max_epoch):\n",
    "    train(net, trainDataset, optimizer, init_lr, epoch, max_epoch)"
   ]
  },
  {
   "cell_type": "code",
   "execution_count": null,
   "metadata": {},
   "outputs": [],
   "source": []
  }
 ],
 "metadata": {
  "kernelspec": {
   "display_name": "Python 3",
   "language": "python",
   "name": "python3"
  },
  "language_info": {
   "codemirror_mode": {
    "name": "ipython",
    "version": 3
   },
   "file_extension": ".py",
   "mimetype": "text/x-python",
   "name": "python",
   "nbconvert_exporter": "python",
   "pygments_lexer": "ipython3",
   "version": "3.7.5"
  }
 },
 "nbformat": 4,
 "nbformat_minor": 4
}
