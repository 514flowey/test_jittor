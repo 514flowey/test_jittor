{
 "cells": [
  {
   "cell_type": "code",
   "execution_count": 1,
   "metadata": {},
   "outputs": [
    {
     "name": "stderr",
     "output_type": "stream",
     "text": [
      "\u001b[38;5;2m[i 0529 16:00:21.845081 04 compiler.py:847] Jittor(1.2.2.28) src: /usr/local/lib/python3.7/dist-packages/jittor\u001b[m\n",
      "\u001b[38;5;2m[i 0529 16:00:21.846190 04 compiler.py:848] g++ at /usr/bin/g++\u001b[m\n",
      "\u001b[38;5;2m[i 0529 16:00:21.846689 04 compiler.py:849] cache_path: /root/.cache/jittor/default/g++\u001b[m\n",
      "\u001b[38;5;2m[i 0529 16:00:21.863269 04 __init__.py:257] Found addr2line(2.30) at /usr/bin/addr2line.\u001b[m\n",
      "\u001b[38;5;2m[i 0529 16:00:21.907672 04 compiler.py:889] pybind_include: -I/usr/include/python3.7m -I/usr/local/lib/python3.7/dist-packages/pybind11/include\u001b[m\n",
      "\u001b[38;5;2m[i 0529 16:00:21.926500 04 compiler.py:891] extension_suffix: .cpython-37m-x86_64-linux-gnu.so\u001b[m\n",
      "\u001b[38;5;2m[i 0529 16:00:22.121801 04 __init__.py:169] Total mem: 7.53GB, using 2 procs for compiling.\u001b[m\n",
      "\u001b[38;5;2m[i 0529 16:00:22.255685 04 jit_compiler.cc:21] Load cc_path: /usr/bin/g++\u001b[m\n",
      "\u001b[38;5;2m[i 0529 16:00:22.382734 04 __init__.py:257] Found mpicc(2.1.1) at /usr/bin/mpicc.\u001b[m\n",
      "\u001b[38;5;2m[i 0529 16:00:22.417316 04 compiler.py:654] handle pyjt_include/usr/local/lib/python3.7/dist-packages/jittor/extern/mpi/inc/mpi_warper.h\u001b[m\n"
     ]
    }
   ],
   "source": [
    "import collections\n",
    "import os\n",
    "import random\n",
    "import time\n",
    "from tqdm import tqdm\n",
    "import jittor as jt\n",
    "from jittor import nn\n",
    "from jittor.dataset.dataset import Dataset"
   ]
  },
  {
   "cell_type": "code",
   "execution_count": 2,
   "metadata": {},
   "outputs": [],
   "source": [
    "def decode_file(file_ID_name, file_result_name):\n",
    "    file_ID = open(file_ID_name, \"r\")\n",
    "    file_result = open(file_result_name, \"r\")\n",
    "    data = []\n",
    "    \n",
    "    for line1, line2 in zip(file_ID, file_result):\n",
    "        feature = line1.replace('\\n','').lower().split(' ')\n",
    "        label = line2.replace('\\n','').lower().split(',')\n",
    "        label = [int(x) for x in label]\n",
    "        data.append([feature, label[1:]])\n",
    "    \n",
    "    random.shuffle(data)\n",
    "    file_ID.close()\n",
    "    file_result.close()\n",
    "    return data"
   ]
  },
  {
   "cell_type": "code",
   "execution_count": 3,
   "metadata": {},
   "outputs": [],
   "source": [
    "folder_name = \"/.cached/data/\"\n",
    "train_ID_name = folder_name + \"ID_train\"\n",
    "train_result_name = folder_name + \"ISEAR_train\"\n",
    "train_data = decode_file(train_ID_name, train_result_name)"
   ]
  },
  {
   "cell_type": "code",
   "execution_count": 22,
   "metadata": {},
   "outputs": [],
   "source": [
    "class MyVocab:\n",
    "    def __init__(self):\n",
    "        self._vocab = {}\n",
    "        self._size = 1\n",
    "        \n",
    "    def insert(self, word):\n",
    "        if word not in self._vocab.keys():\n",
    "            self._vocab[word] = self._size\n",
    "            self._size = self._size + 1\n",
    "    \n",
    "    def locate(self, word):\n",
    "        if word not in self._vocab.keys():\n",
    "            return 0\n",
    "        return self._vocab[word]\n",
    "    \n",
    "    def size(self):\n",
    "        return self._size\n",
    "\n",
    "def build_vocab(data):\n",
    "    vocab = MyVocab()\n",
    "    for sentence in data:\n",
    "        for word in sentence[0]:\n",
    "            vocab.insert(word)\n",
    "    return vocab\n",
    "\n",
    "train_vocab = build_vocab(train_data)"
   ]
  },
  {
   "cell_type": "code",
   "execution_count": 28,
   "metadata": {},
   "outputs": [],
   "source": [
    "class TrainDataset(Dataset):\n",
    "    def __init__(self, vocab=None, data=None, batch_size=1, shuffle=False):\n",
    "        super().__init__()\n",
    "        \n",
    "        self._batch_size = batch_size\n",
    "        self._shuffle = shuffle\n",
    "        self._total_len = len(data)\n",
    "        self._data = []\n",
    "        for sentence in data:\n",
    "            self._data.append([[vocab.locate(x) for x in sentence[0]], sentence[1]])\n",
    "        self.set_attrs(batch_size=self._batch_size, total_len=self._total_len, shuffle=self._shuffle)\n",
    "            \n",
    "    def __getitem(self, index):\n",
    "        feature = jt.array(self._data[index][0])\n",
    "        label = jt.array(self._data[index][1])\n",
    "        return feature, label\n",
    "    \n",
    "trainDataset = TrainDataset(vocab = train_vocab, data = train_data)"
   ]
  },
  {
   "cell_type": "code",
   "execution_count": null,
   "metadata": {},
   "outputs": [],
   "source": []
  }
 ],
 "metadata": {
  "kernelspec": {
   "display_name": "Python 3",
   "language": "python",
   "name": "python3"
  },
  "language_info": {
   "codemirror_mode": {
    "name": "ipython",
    "version": 3
   },
   "file_extension": ".py",
   "mimetype": "text/x-python",
   "name": "python",
   "nbconvert_exporter": "python",
   "pygments_lexer": "ipython3",
   "version": "3.7.5"
  }
 },
 "nbformat": 4,
 "nbformat_minor": 4
}
