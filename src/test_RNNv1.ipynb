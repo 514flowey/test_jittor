{
 "cells": [
  {
   "cell_type": "code",
   "execution_count": 1,
   "metadata": {},
   "outputs": [
    {
     "name": "stderr",
     "output_type": "stream",
     "text": [
      "\u001b[38;5;2m[i 0601 01:49:50.705090 36 compiler.py:847] Jittor(1.2.2.28) src: /usr/local/lib/python3.7/dist-packages/jittor\u001b[m\n",
      "\u001b[38;5;2m[i 0601 01:49:50.706225 36 compiler.py:848] g++ at /usr/bin/g++\u001b[m\n",
      "\u001b[38;5;2m[i 0601 01:49:50.707197 36 compiler.py:849] cache_path: /root/.cache/jittor/default/g++\u001b[m\n",
      "\u001b[38;5;2m[i 0601 01:49:50.730312 36 __init__.py:257] Found addr2line(2.30) at /usr/bin/addr2line.\u001b[m\n",
      "\u001b[38;5;2m[i 0601 01:49:50.783849 36 compiler.py:889] pybind_include: -I/usr/include/python3.7m -I/usr/local/lib/python3.7/dist-packages/pybind11/include\u001b[m\n",
      "\u001b[38;5;2m[i 0601 01:49:50.797418 36 compiler.py:891] extension_suffix: .cpython-37m-x86_64-linux-gnu.so\u001b[m\n",
      "\u001b[38;5;2m[i 0601 01:49:50.970488 36 __init__.py:169] Total mem: 7.53GB, using 2 procs for compiling.\u001b[m\n",
      "\u001b[38;5;2m[i 0601 01:49:51.117283 36 jit_compiler.cc:21] Load cc_path: /usr/bin/g++\u001b[m\n",
      "\u001b[38;5;2m[i 0601 01:49:51.242384 36 __init__.py:257] Found mpicc(2.1.1) at /usr/bin/mpicc.\u001b[m\n",
      "\u001b[38;5;2m[i 0601 01:49:51.264704 36 compiler.py:654] handle pyjt_include/usr/local/lib/python3.7/dist-packages/jittor/extern/mpi/inc/mpi_warper.h\u001b[m\n"
     ]
    }
   ],
   "source": [
    "import collections\n",
    "import os\n",
    "import random\n",
    "import time\n",
    "from tqdm import tqdm\n",
    "import jittor as jt\n",
    "from jittor import nn\n",
    "from jittor.dataset.dataset import Dataset"
   ]
  },
  {
   "cell_type": "code",
   "execution_count": 2,
   "metadata": {},
   "outputs": [],
   "source": [
    "def decode_file(file_ID_name, file_result_name):\n",
    "    file_ID = open(file_ID_name, \"r\")\n",
    "    file_result = open(file_result_name, \"r\")\n",
    "    data = []\n",
    "    \n",
    "    for line1, line2 in zip(file_ID, file_result):\n",
    "        feature = line1.replace('\\n','').lower().split(' ')\n",
    "        label = line2.replace('\\n','').lower().split(',')\n",
    "        label = [int(x) for x in label]\n",
    "        data.append([feature, label[1:]])\n",
    "    \n",
    "    random.shuffle(data)\n",
    "    file_ID.close()\n",
    "    file_result.close()\n",
    "    return data"
   ]
  },
  {
   "cell_type": "code",
   "execution_count": 3,
   "metadata": {},
   "outputs": [],
   "source": [
    "folder_name = \"/.cached/data/\"\n",
    "train_ID_name = folder_name + \"ID_train\"\n",
    "train_result_name = folder_name + \"ISEAR_train\"\n",
    "train_data = decode_file(train_ID_name, train_result_name)"
   ]
  },
  {
   "cell_type": "code",
   "execution_count": 4,
   "metadata": {},
   "outputs": [],
   "source": [
    "class MyVocab:\n",
    "    def __init__(self):\n",
    "        self._vocab = {}\n",
    "        self._size = 1\n",
    "        \n",
    "    def insert(self, word):\n",
    "        if word not in self._vocab.keys():\n",
    "            self._vocab[word] = self._size\n",
    "            self._size = self._size + 1\n",
    "    \n",
    "    def locate(self, word):\n",
    "        if word not in self._vocab.keys():\n",
    "            return 0\n",
    "        return self._vocab[word]\n",
    "    \n",
    "    def size(self):\n",
    "        return self._size\n",
    "\n",
    "def build_vocab(data):\n",
    "    vocab = MyVocab()\n",
    "    for sentence in data:\n",
    "        for word in sentence[0]:\n",
    "            vocab.insert(word)\n",
    "    return vocab\n",
    "\n",
    "def resize_sentence(data, normal_len):\n",
    "    def pad(sentence, size):\n",
    "        return sentence[:size] if len(sentence) > size else sentence+[0]*(size-len(sentence))\n",
    "    return [[pad(sentence[0], normal_len), sentence[1]] for sentence in data]\n",
    "    \n",
    "\n",
    "train_vocab = build_vocab(train_data)"
   ]
  },
  {
   "cell_type": "code",
   "execution_count": 5,
   "metadata": {},
   "outputs": [],
   "source": [
    "class TrainDataset(Dataset):\n",
    "    def __init__(self, vocab=None, data=None, normal_len=180, batch_size=1, shuffle=False):\n",
    "        super().__init__()\n",
    "        \n",
    "        self._batch_size = batch_size\n",
    "        self._shuffle = shuffle\n",
    "        self._total_len = len(data)\n",
    "        self._sentence_len = normal_len\n",
    "        self._vocab = vocab\n",
    "        self._data = []\n",
    "        for sentence in data:\n",
    "            self._data.append([[vocab.locate(x) for x in sentence[0]], sentence[1]])\n",
    "        self._data = resize_sentence(self._data, normal_len)\n",
    "        self.set_attrs(batch_size=self._batch_size, total_len=self._total_len, shuffle=self._shuffle)\n",
    "            \n",
    "    def __getitem__(self, index):\n",
    "        feature = jt.array(self._data[index][0])\n",
    "        label = jt.argmax(jt.array(self._data[index][1]), dim = 0)[0]\n",
    "        return feature, label\n",
    "    \n",
    "trainDataset = TrainDataset(vocab = train_vocab, data = train_data)"
   ]
  },
  {
   "cell_type": "code",
   "execution_count": 12,
   "metadata": {},
   "outputs": [
    {
     "ename": "AttributeError",
     "evalue": "module 'jittor.nn' has no attribute 'LSTM'",
     "output_type": "error",
     "traceback": [
      "\u001b[0;31m---------------------------------------------------------------------------\u001b[0m",
      "\u001b[0;31mAttributeError\u001b[0m                            Traceback (most recent call last)",
      "\u001b[0;32m<ipython-input-12-ae3d333e2873>\u001b[0m in \u001b[0;36m<module>\u001b[0;34m\u001b[0m\n\u001b[1;32m     31\u001b[0m         \u001b[0;32mreturn\u001b[0m \u001b[0moutputs\u001b[0m\u001b[0;34m\u001b[0m\u001b[0;34m\u001b[0m\u001b[0m\n\u001b[1;32m     32\u001b[0m \u001b[0;34m\u001b[0m\u001b[0m\n\u001b[0;32m---> 33\u001b[0;31m \u001b[0mhelp\u001b[0m\u001b[0;34m(\u001b[0m\u001b[0mnn\u001b[0m\u001b[0;34m.\u001b[0m\u001b[0mLSTM\u001b[0m\u001b[0;34m)\u001b[0m\u001b[0;34m\u001b[0m\u001b[0;34m\u001b[0m\u001b[0m\n\u001b[0m\u001b[1;32m     34\u001b[0m \u001b[0mvocab_size\u001b[0m \u001b[0;34m=\u001b[0m \u001b[0mtrain_vocab\u001b[0m\u001b[0;34m.\u001b[0m\u001b[0msize\u001b[0m\u001b[0;34m(\u001b[0m\u001b[0;34m)\u001b[0m\u001b[0;34m\u001b[0m\u001b[0;34m\u001b[0m\u001b[0m\n\u001b[1;32m     35\u001b[0m \u001b[0membed_size\u001b[0m\u001b[0;34m,\u001b[0m \u001b[0mnum_hiddens\u001b[0m\u001b[0;34m,\u001b[0m \u001b[0mnum_layers\u001b[0m \u001b[0;34m=\u001b[0m \u001b[0;36m300\u001b[0m\u001b[0;34m,\u001b[0m \u001b[0;36m300\u001b[0m\u001b[0;34m,\u001b[0m \u001b[0;36m7\u001b[0m\u001b[0;34m\u001b[0m\u001b[0;34m\u001b[0m\u001b[0m\n",
      "\u001b[0;31mAttributeError\u001b[0m: module 'jittor.nn' has no attribute 'LSTM'"
     ]
    }
   ],
   "source": [
    "class TextRNN(jt.Module):\n",
    "    def __init__(self, vocab_size, embed_size, num_hiddens, num_layers=1, num_emotion=7):\n",
    "        super(TextRNN, self).__init__()\n",
    "        self._embedding = nn.Embedding(vocab_size, embed_size)\n",
    "        '''\n",
    "        self._encoder = nn.LSTM(input_size=embed_size,\n",
    "                               hidden_size=num_hiddens,\n",
    "                               num_layers=num_layers,\n",
    "                               bidirectional=True)\n",
    "        '''\n",
    "        self._encoder = nn.LSTM(embed_size, hidden_size, num_layers)\n",
    "        self._decoder = nn.Linear(4 * num_hiddens, num_emotion)\n",
    "        \n",
    "    def excute(self, inputs):\n",
    "        '''\n",
    "        @params:\n",
    "            inputs: 词语下标序列，形状为 (batch_size, len_sentence) 的整数张量\n",
    "        @return:\n",
    "            outputs: 对文本情感的预测，形状为 (batch_size, num_emotion) 的张量\n",
    "        '''\n",
    "        batch_size = inputs.shape[0]\n",
    "        inputs = inputs.flatten()\n",
    "        embeddings = self._embedding(inputs)\n",
    "        # embeddings -> (batch_size, len_sentence, embed_size)\n",
    "        embeddings = jt.reshape(embeddings, (batch_size, embeddings.shape[0]//batch_size, embeddings.shape[1]))\n",
    "        embeddings = embeddings.permute(1, 0, 2)\n",
    "        # embeddings -> (len_sentence, batch_size, embed_size)\n",
    "        hiddens, _ = self._encoder(embeddings)\n",
    "        encoding = jt.contrib.concat([hiddens[0], hiddens[-1]], dim = -1)\n",
    "        outputs = self._decoder(encoding)\n",
    "        return outputs\n",
    "\n",
    "vocab_size = train_vocab.size()\n",
    "embed_size, num_hiddens, num_layers = 300, 300, 7\n",
    "net = TextRNN(vocab_size, embed_size, num_hiddens, num_layers)"
   ]
  },
  {
   "cell_type": "code",
   "execution_count": 7,
   "metadata": {},
   "outputs": [],
   "source": [
    "def train(model, train_loader, optimizer, init_lr, epoch, max_epoch):\n",
    "    model.train()\n",
    "    max_iter = len(train_loader)\n",
    "    \n",
    "    sum_tot = 0\n",
    "    sum_acc = 0\n",
    "    for index, (feature, label) in enumerate(train_loader):\n",
    "        pred = model(feature)\n",
    "        loss = nn.cross_entropy_loss(pred, label)\n",
    "        optimizer.step(loss)\n",
    "        if jt.argmax(pred, dim = -1)[0] == label[0]:\n",
    "            sum_acc = sum_acc + 1\n",
    "        sum_tot = sum_tot + 1\n",
    "        if index % 500 == 0:\n",
    "            print ('Training in epoch {} iteration {} acc = {} loss = {}'.format(epoch, index, sum_acc/sum_tot, loss.data[0]))\n",
    "\n",
    "def evaluate(model, test_loader, epoch):\n",
    "    model.eval()\n",
    "    \n",
    "    sum_acc = 0\n",
    "    sum_tot = 0\n",
    "    for index, (feature, label) in enumerate(test_loader):\n",
    "        pred = model(feature)\n",
    "        if jt.argmax(pred, dim = -1)[0] == label[0]:\n",
    "            sum_acc = sum_acc + 1\n",
    "        sum_tot = sum_tot + 1\n",
    "    print (\"Testing in epoch {}, acc = {}\".format(epoch, sum_acc / sum_tot))"
   ]
  },
  {
   "cell_type": "code",
   "execution_count": 8,
   "metadata": {},
   "outputs": [
    {
     "ename": "NameError",
     "evalue": "name 'net' is not defined",
     "output_type": "error",
     "traceback": [
      "\u001b[0;31m---------------------------------------------------------------------------\u001b[0m",
      "\u001b[0;31mNameError\u001b[0m                                 Traceback (most recent call last)",
      "\u001b[0;32m<ipython-input-8-d8846cd4a68d>\u001b[0m in \u001b[0;36m<module>\u001b[0;34m\u001b[0m\n\u001b[1;32m      7\u001b[0m \u001b[0mlearning_rate\u001b[0m \u001b[0;34m=\u001b[0m \u001b[0;36m0.0001\u001b[0m\u001b[0;34m\u001b[0m\u001b[0;34m\u001b[0m\u001b[0m\n\u001b[1;32m      8\u001b[0m \u001b[0mmax_epoch\u001b[0m \u001b[0;34m=\u001b[0m \u001b[0;36m5\u001b[0m\u001b[0;34m\u001b[0m\u001b[0;34m\u001b[0m\u001b[0m\n\u001b[0;32m----> 9\u001b[0;31m \u001b[0moptimizer\u001b[0m \u001b[0;34m=\u001b[0m \u001b[0mnn\u001b[0m\u001b[0;34m.\u001b[0m\u001b[0mAdam\u001b[0m\u001b[0;34m(\u001b[0m\u001b[0mnet\u001b[0m\u001b[0;34m.\u001b[0m\u001b[0mparameters\u001b[0m\u001b[0;34m(\u001b[0m\u001b[0;34m)\u001b[0m\u001b[0;34m,\u001b[0m \u001b[0mlearning_rate\u001b[0m\u001b[0;34m)\u001b[0m\u001b[0;34m\u001b[0m\u001b[0;34m\u001b[0m\u001b[0m\n\u001b[0m\u001b[1;32m     10\u001b[0m \u001b[0;32mfor\u001b[0m \u001b[0mepoch\u001b[0m \u001b[0;32min\u001b[0m \u001b[0mrange\u001b[0m\u001b[0;34m(\u001b[0m\u001b[0mmax_epoch\u001b[0m\u001b[0;34m)\u001b[0m\u001b[0;34m:\u001b[0m\u001b[0;34m\u001b[0m\u001b[0;34m\u001b[0m\u001b[0m\n\u001b[1;32m     11\u001b[0m     \u001b[0mtrain\u001b[0m\u001b[0;34m(\u001b[0m\u001b[0mnet\u001b[0m\u001b[0;34m,\u001b[0m \u001b[0mtrainDataset\u001b[0m\u001b[0;34m,\u001b[0m \u001b[0moptimizer\u001b[0m\u001b[0;34m,\u001b[0m \u001b[0mlearning_rate\u001b[0m\u001b[0;34m,\u001b[0m \u001b[0mepoch\u001b[0m\u001b[0;34m,\u001b[0m \u001b[0mmax_epoch\u001b[0m\u001b[0;34m)\u001b[0m\u001b[0;34m\u001b[0m\u001b[0;34m\u001b[0m\u001b[0m\n",
      "\u001b[0;31mNameError\u001b[0m: name 'net' is not defined"
     ]
    }
   ],
   "source": [
    "test_ID_name = folder_name + \"ID_test\"\n",
    "test_result_name = folder_name + \"ISEAR_test\"\n",
    "test_data = decode_file(test_ID_name, test_result_name)\n",
    "testDataset = TrainDataset(vocab = train_vocab, data = test_data)\n",
    "\n",
    "\n",
    "learning_rate = 0.0001\n",
    "max_epoch = 5\n",
    "optimizer = nn.Adam(net.parameters(), learning_rate)\n",
    "for epoch in range(max_epoch):\n",
    "    train(net, trainDataset, optimizer, learning_rate, epoch, max_epoch)\n",
    "    evaluate(net, testDataset, epoch)"
   ]
  },
  {
   "cell_type": "code",
   "execution_count": null,
   "metadata": {},
   "outputs": [],
   "source": []
  }
 ],
 "metadata": {
  "kernelspec": {
   "display_name": "Python 3",
   "language": "python",
   "name": "python3"
  },
  "language_info": {
   "codemirror_mode": {
    "name": "ipython",
    "version": 3
   },
   "file_extension": ".py",
   "mimetype": "text/x-python",
   "name": "python",
   "nbconvert_exporter": "python",
   "pygments_lexer": "ipython3",
   "version": "3.7.5"
  }
 },
 "nbformat": 4,
 "nbformat_minor": 4
}
